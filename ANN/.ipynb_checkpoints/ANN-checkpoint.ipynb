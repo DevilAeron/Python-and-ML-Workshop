{
 "cells": [
  {
   "cell_type": "markdown",
   "metadata": {},
   "source": [
    "# Importing the Libraries for Data Preprocessing"
   ]
  },
  {
   "cell_type": "code",
   "execution_count": 1,
   "metadata": {},
   "outputs": [],
   "source": [
    "import numpy as np\n",
    "import matplotlib.pyplot as plt\n",
    "import pandas as pd"
   ]
  },
  {
   "cell_type": "markdown",
   "metadata": {},
   "source": [
    "### Importing the Data Set"
   ]
  },
  {
   "cell_type": "code",
   "execution_count": 2,
   "metadata": {},
   "outputs": [],
   "source": [
    "dataset = pd.read_csv('Churn_Modelling.csv')"
   ]
  },
  {
   "cell_type": "code",
   "execution_count": 3,
   "metadata": {},
   "outputs": [
    {
     "data": {
      "text/html": [
       "<div>\n",
       "<style scoped>\n",
       "    .dataframe tbody tr th:only-of-type {\n",
       "        vertical-align: middle;\n",
       "    }\n",
       "\n",
       "    .dataframe tbody tr th {\n",
       "        vertical-align: top;\n",
       "    }\n",
       "\n",
       "    .dataframe thead th {\n",
       "        text-align: right;\n",
       "    }\n",
       "</style>\n",
       "<table border=\"1\" class=\"dataframe\">\n",
       "  <thead>\n",
       "    <tr style=\"text-align: right;\">\n",
       "      <th></th>\n",
       "      <th>RowNumber</th>\n",
       "      <th>CustomerId</th>\n",
       "      <th>Surname</th>\n",
       "      <th>CreditScore</th>\n",
       "      <th>Geography</th>\n",
       "      <th>Gender</th>\n",
       "      <th>Age</th>\n",
       "      <th>Tenure</th>\n",
       "      <th>Balance</th>\n",
       "      <th>NumOfProducts</th>\n",
       "      <th>HasCrCard</th>\n",
       "      <th>IsActiveMember</th>\n",
       "      <th>EstimatedSalary</th>\n",
       "      <th>Exited</th>\n",
       "    </tr>\n",
       "  </thead>\n",
       "  <tbody>\n",
       "    <tr>\n",
       "      <td>0</td>\n",
       "      <td>1</td>\n",
       "      <td>15634602</td>\n",
       "      <td>Hargrave</td>\n",
       "      <td>619</td>\n",
       "      <td>France</td>\n",
       "      <td>Female</td>\n",
       "      <td>42</td>\n",
       "      <td>2</td>\n",
       "      <td>0.00</td>\n",
       "      <td>1</td>\n",
       "      <td>1</td>\n",
       "      <td>1</td>\n",
       "      <td>101348.88</td>\n",
       "      <td>1</td>\n",
       "    </tr>\n",
       "    <tr>\n",
       "      <td>1</td>\n",
       "      <td>2</td>\n",
       "      <td>15647311</td>\n",
       "      <td>Hill</td>\n",
       "      <td>608</td>\n",
       "      <td>Spain</td>\n",
       "      <td>Female</td>\n",
       "      <td>41</td>\n",
       "      <td>1</td>\n",
       "      <td>83807.86</td>\n",
       "      <td>1</td>\n",
       "      <td>0</td>\n",
       "      <td>1</td>\n",
       "      <td>112542.58</td>\n",
       "      <td>0</td>\n",
       "    </tr>\n",
       "    <tr>\n",
       "      <td>2</td>\n",
       "      <td>3</td>\n",
       "      <td>15619304</td>\n",
       "      <td>Onio</td>\n",
       "      <td>502</td>\n",
       "      <td>France</td>\n",
       "      <td>Female</td>\n",
       "      <td>42</td>\n",
       "      <td>8</td>\n",
       "      <td>159660.80</td>\n",
       "      <td>3</td>\n",
       "      <td>1</td>\n",
       "      <td>0</td>\n",
       "      <td>113931.57</td>\n",
       "      <td>1</td>\n",
       "    </tr>\n",
       "    <tr>\n",
       "      <td>3</td>\n",
       "      <td>4</td>\n",
       "      <td>15701354</td>\n",
       "      <td>Boni</td>\n",
       "      <td>699</td>\n",
       "      <td>France</td>\n",
       "      <td>Female</td>\n",
       "      <td>39</td>\n",
       "      <td>1</td>\n",
       "      <td>0.00</td>\n",
       "      <td>2</td>\n",
       "      <td>0</td>\n",
       "      <td>0</td>\n",
       "      <td>93826.63</td>\n",
       "      <td>0</td>\n",
       "    </tr>\n",
       "    <tr>\n",
       "      <td>4</td>\n",
       "      <td>5</td>\n",
       "      <td>15737888</td>\n",
       "      <td>Mitchell</td>\n",
       "      <td>850</td>\n",
       "      <td>Spain</td>\n",
       "      <td>Female</td>\n",
       "      <td>43</td>\n",
       "      <td>2</td>\n",
       "      <td>125510.82</td>\n",
       "      <td>1</td>\n",
       "      <td>1</td>\n",
       "      <td>1</td>\n",
       "      <td>79084.10</td>\n",
       "      <td>0</td>\n",
       "    </tr>\n",
       "    <tr>\n",
       "      <td>...</td>\n",
       "      <td>...</td>\n",
       "      <td>...</td>\n",
       "      <td>...</td>\n",
       "      <td>...</td>\n",
       "      <td>...</td>\n",
       "      <td>...</td>\n",
       "      <td>...</td>\n",
       "      <td>...</td>\n",
       "      <td>...</td>\n",
       "      <td>...</td>\n",
       "      <td>...</td>\n",
       "      <td>...</td>\n",
       "      <td>...</td>\n",
       "      <td>...</td>\n",
       "    </tr>\n",
       "    <tr>\n",
       "      <td>9995</td>\n",
       "      <td>9996</td>\n",
       "      <td>15606229</td>\n",
       "      <td>Obijiaku</td>\n",
       "      <td>771</td>\n",
       "      <td>France</td>\n",
       "      <td>Male</td>\n",
       "      <td>39</td>\n",
       "      <td>5</td>\n",
       "      <td>0.00</td>\n",
       "      <td>2</td>\n",
       "      <td>1</td>\n",
       "      <td>0</td>\n",
       "      <td>96270.64</td>\n",
       "      <td>0</td>\n",
       "    </tr>\n",
       "    <tr>\n",
       "      <td>9996</td>\n",
       "      <td>9997</td>\n",
       "      <td>15569892</td>\n",
       "      <td>Johnstone</td>\n",
       "      <td>516</td>\n",
       "      <td>France</td>\n",
       "      <td>Male</td>\n",
       "      <td>35</td>\n",
       "      <td>10</td>\n",
       "      <td>57369.61</td>\n",
       "      <td>1</td>\n",
       "      <td>1</td>\n",
       "      <td>1</td>\n",
       "      <td>101699.77</td>\n",
       "      <td>0</td>\n",
       "    </tr>\n",
       "    <tr>\n",
       "      <td>9997</td>\n",
       "      <td>9998</td>\n",
       "      <td>15584532</td>\n",
       "      <td>Liu</td>\n",
       "      <td>709</td>\n",
       "      <td>France</td>\n",
       "      <td>Female</td>\n",
       "      <td>36</td>\n",
       "      <td>7</td>\n",
       "      <td>0.00</td>\n",
       "      <td>1</td>\n",
       "      <td>0</td>\n",
       "      <td>1</td>\n",
       "      <td>42085.58</td>\n",
       "      <td>1</td>\n",
       "    </tr>\n",
       "    <tr>\n",
       "      <td>9998</td>\n",
       "      <td>9999</td>\n",
       "      <td>15682355</td>\n",
       "      <td>Sabbatini</td>\n",
       "      <td>772</td>\n",
       "      <td>Germany</td>\n",
       "      <td>Male</td>\n",
       "      <td>42</td>\n",
       "      <td>3</td>\n",
       "      <td>75075.31</td>\n",
       "      <td>2</td>\n",
       "      <td>1</td>\n",
       "      <td>0</td>\n",
       "      <td>92888.52</td>\n",
       "      <td>1</td>\n",
       "    </tr>\n",
       "    <tr>\n",
       "      <td>9999</td>\n",
       "      <td>10000</td>\n",
       "      <td>15628319</td>\n",
       "      <td>Walker</td>\n",
       "      <td>792</td>\n",
       "      <td>France</td>\n",
       "      <td>Female</td>\n",
       "      <td>28</td>\n",
       "      <td>4</td>\n",
       "      <td>130142.79</td>\n",
       "      <td>1</td>\n",
       "      <td>1</td>\n",
       "      <td>0</td>\n",
       "      <td>38190.78</td>\n",
       "      <td>0</td>\n",
       "    </tr>\n",
       "  </tbody>\n",
       "</table>\n",
       "<p>10000 rows × 14 columns</p>\n",
       "</div>"
      ],
      "text/plain": [
       "      RowNumber  CustomerId    Surname  CreditScore Geography  Gender  Age  \\\n",
       "0             1    15634602   Hargrave          619    France  Female   42   \n",
       "1             2    15647311       Hill          608     Spain  Female   41   \n",
       "2             3    15619304       Onio          502    France  Female   42   \n",
       "3             4    15701354       Boni          699    France  Female   39   \n",
       "4             5    15737888   Mitchell          850     Spain  Female   43   \n",
       "...         ...         ...        ...          ...       ...     ...  ...   \n",
       "9995       9996    15606229   Obijiaku          771    France    Male   39   \n",
       "9996       9997    15569892  Johnstone          516    France    Male   35   \n",
       "9997       9998    15584532        Liu          709    France  Female   36   \n",
       "9998       9999    15682355  Sabbatini          772   Germany    Male   42   \n",
       "9999      10000    15628319     Walker          792    France  Female   28   \n",
       "\n",
       "      Tenure    Balance  NumOfProducts  HasCrCard  IsActiveMember  \\\n",
       "0          2       0.00              1          1               1   \n",
       "1          1   83807.86              1          0               1   \n",
       "2          8  159660.80              3          1               0   \n",
       "3          1       0.00              2          0               0   \n",
       "4          2  125510.82              1          1               1   \n",
       "...      ...        ...            ...        ...             ...   \n",
       "9995       5       0.00              2          1               0   \n",
       "9996      10   57369.61              1          1               1   \n",
       "9997       7       0.00              1          0               1   \n",
       "9998       3   75075.31              2          1               0   \n",
       "9999       4  130142.79              1          1               0   \n",
       "\n",
       "      EstimatedSalary  Exited  \n",
       "0           101348.88       1  \n",
       "1           112542.58       0  \n",
       "2           113931.57       1  \n",
       "3            93826.63       0  \n",
       "4            79084.10       0  \n",
       "...               ...     ...  \n",
       "9995         96270.64       0  \n",
       "9996        101699.77       0  \n",
       "9997         42085.58       1  \n",
       "9998         92888.52       1  \n",
       "9999         38190.78       0  \n",
       "\n",
       "[10000 rows x 14 columns]"
      ]
     },
     "execution_count": 3,
     "metadata": {},
     "output_type": "execute_result"
    }
   ],
   "source": [
    "dataset"
   ]
  },
  {
   "cell_type": "markdown",
   "metadata": {},
   "source": [
    "### Creation of the Matrix of Features and Dependent variable Vector"
   ]
  },
  {
   "cell_type": "code",
   "execution_count": 4,
   "metadata": {},
   "outputs": [],
   "source": [
    "X = dataset.iloc[:, 3:13].values\n",
    "Y = dataset.iloc[:, 13].values"
   ]
  },
  {
   "cell_type": "markdown",
   "metadata": {},
   "source": [
    "### Seperating out / Dealing with the Categorical Variable"
   ]
  },
  {
   "cell_type": "code",
   "execution_count": 5,
   "metadata": {},
   "outputs": [],
   "source": [
    "from sklearn.preprocessing import LabelEncoder, OneHotEncoder"
   ]
  },
  {
   "cell_type": "markdown",
   "metadata": {},
   "source": [
    "### Dealing with the Country categorical variable"
   ]
  },
  {
   "cell_type": "code",
   "execution_count": 6,
   "metadata": {},
   "outputs": [],
   "source": [
    "labelEncoder_X_Country = LabelEncoder()\n",
    "X[:, 1] = labelEncoder_X_Country.fit_transform(X[:, 1])"
   ]
  },
  {
   "cell_type": "markdown",
   "metadata": {},
   "source": [
    "### Dealing with the Gender categorical variable"
   ]
  },
  {
   "cell_type": "code",
   "execution_count": 7,
   "metadata": {},
   "outputs": [],
   "source": [
    "labelEncoder_X_Gender = LabelEncoder()\n",
    "X[:, 2] = labelEncoder_X_Gender.fit_transform(X[:, 2])"
   ]
  },
  {
   "cell_type": "code",
   "execution_count": 8,
   "metadata": {},
   "outputs": [
    {
     "name": "stderr",
     "output_type": "stream",
     "text": [
      "C:\\Users\\aryan\\Anaconda3\\lib\\site-packages\\sklearn\\preprocessing\\_encoders.py:415: FutureWarning: The handling of integer data will change in version 0.22. Currently, the categories are determined based on the range [0, max(values)], while in the future they will be determined based on the unique values.\n",
      "If you want the future behaviour and silence this warning, you can specify \"categories='auto'\".\n",
      "In case you used a LabelEncoder before this OneHotEncoder to convert the categories to integers, then you can now use the OneHotEncoder directly.\n",
      "  warnings.warn(msg, FutureWarning)\n",
      "C:\\Users\\aryan\\Anaconda3\\lib\\site-packages\\sklearn\\preprocessing\\_encoders.py:451: DeprecationWarning: The 'categorical_features' keyword is deprecated in version 0.20 and will be removed in 0.22. You can use the ColumnTransformer instead.\n",
      "  \"use the ColumnTransformer instead.\", DeprecationWarning)\n"
     ]
    }
   ],
   "source": [
    "onehotencoder = OneHotEncoder(categorical_features=[1])\n",
    "X = onehotencoder.fit_transform(X).toarray()"
   ]
  },
  {
   "cell_type": "markdown",
   "metadata": {},
   "source": [
    "#### To avoid the Dummy variable trap"
   ]
  },
  {
   "cell_type": "code",
   "execution_count": 9,
   "metadata": {},
   "outputs": [],
   "source": [
    "X = X[:, 1:]"
   ]
  },
  {
   "cell_type": "markdown",
   "metadata": {},
   "source": [
    "### Splitting the data into Training set and Test set"
   ]
  },
  {
   "cell_type": "code",
   "execution_count": 10,
   "metadata": {},
   "outputs": [],
   "source": [
    "from sklearn.model_selection import train_test_split\n",
    "X_train, X_test, Y_train, Y_test = train_test_split(X, Y, test_size=0.2, random_state=0)"
   ]
  },
  {
   "cell_type": "markdown",
   "metadata": {},
   "source": [
    "### Scaling the Data ( Feature Scaling )"
   ]
  },
  {
   "cell_type": "code",
   "execution_count": 11,
   "metadata": {},
   "outputs": [],
   "source": [
    "from sklearn.preprocessing import StandardScaler\n",
    "SC = StandardScaler()\n",
    "X_train = SC.fit_transform(X_train)\n",
    "X_test = SC.transform(X_test)"
   ]
  },
  {
   "cell_type": "markdown",
   "metadata": {},
   "source": [
    "## Finally Done with the Data Preprocessing ! Kudos Everyone !!\n",
    "\n",
    "# Creating our First Neural Network ( ANN )\n",
    "\n",
    "### Importing Keras, A library using which we will create the Neural Network"
   ]
  },
  {
   "cell_type": "code",
   "execution_count": 12,
   "metadata": {},
   "outputs": [],
   "source": [
    "from tensorflow.keras.models import Sequential\n",
    "from tensorflow.keras.layers import Dense, Dropout"
   ]
  },
  {
   "cell_type": "code",
   "execution_count": 13,
   "metadata": {},
   "outputs": [],
   "source": [
    "Our_Classifier = Sequential()"
   ]
  },
  {
   "cell_type": "code",
   "execution_count": 14,
   "metadata": {},
   "outputs": [],
   "source": [
    "Our_Classifier.add(Dense(units = 6, activation = 'relu', input_dim = 11))"
   ]
  },
  {
   "cell_type": "code",
   "execution_count": 15,
   "metadata": {},
   "outputs": [],
   "source": [
    "Our_Classifier.add(Dense(units = 6, activation = 'relu'))"
   ]
  },
  {
   "cell_type": "code",
   "execution_count": 16,
   "metadata": {},
   "outputs": [],
   "source": [
    "Our_Classifier.add(Dense(units = 1, activation = 'sigmoid'))"
   ]
  },
  {
   "cell_type": "code",
   "execution_count": 17,
   "metadata": {},
   "outputs": [],
   "source": [
    "Our_Classifier.compile(optimizer = 'adam', loss = 'binary_crossentropy', metrics = ['accuracy'])"
   ]
  },
  {
   "cell_type": "code",
   "execution_count": 18,
   "metadata": {},
   "outputs": [
    {
     "name": "stdout",
     "output_type": "stream",
     "text": [
      "Train on 8000 samples\n",
      "Epoch 1/100\n",
      "8000/8000 [==============================] - 2s 264us/sample - loss: 0.5467 - accuracy: 0.7471\n",
      "Epoch 2/100\n",
      "8000/8000 [==============================] - 1s 167us/sample - loss: 0.4291 - accuracy: 0.8126\n",
      "Epoch 3/100\n",
      "8000/8000 [==============================] - 1s 164us/sample - loss: 0.4152 - accuracy: 0.8238\n",
      "Epoch 4/100\n",
      "8000/8000 [==============================] - 1s 162us/sample - loss: 0.4038 - accuracy: 0.8298\n",
      "Epoch 5/100\n",
      "8000/8000 [==============================] - 1s 161us/sample - loss: 0.3838 - accuracy: 0.8439\n",
      "Epoch 6/100\n",
      "8000/8000 [==============================] - 1s 166us/sample - loss: 0.3696 - accuracy: 0.8479\n",
      "Epoch 7/100\n",
      "8000/8000 [==============================] - 1s 167us/sample - loss: 0.3623 - accuracy: 0.8511\n",
      "Epoch 8/100\n",
      "8000/8000 [==============================] - 1s 179us/sample - loss: 0.3579 - accuracy: 0.8519\n",
      "Epoch 9/100\n",
      "8000/8000 [==============================] - 1s 183us/sample - loss: 0.3547 - accuracy: 0.8506\n",
      "Epoch 10/100\n",
      "8000/8000 [==============================] - 1s 162us/sample - loss: 0.3528 - accuracy: 0.8543\n",
      "Epoch 11/100\n",
      "8000/8000 [==============================] - 1s 162us/sample - loss: 0.3510 - accuracy: 0.8555\n",
      "Epoch 12/100\n",
      "8000/8000 [==============================] - 1s 168us/sample - loss: 0.3496 - accuracy: 0.8568\n",
      "Epoch 13/100\n",
      "8000/8000 [==============================] - 1s 176us/sample - loss: 0.3485 - accuracy: 0.8574\n",
      "Epoch 14/100\n",
      "8000/8000 [==============================] - 1s 171us/sample - loss: 0.3477 - accuracy: 0.8576\n",
      "Epoch 15/100\n",
      "8000/8000 [==============================] - 1s 165us/sample - loss: 0.3466 - accuracy: 0.8583\n",
      "Epoch 16/100\n",
      "8000/8000 [==============================] - 1s 163us/sample - loss: 0.3456 - accuracy: 0.8583\n",
      "Epoch 17/100\n",
      "8000/8000 [==============================] - 1s 167us/sample - loss: 0.3447 - accuracy: 0.8572\n",
      "Epoch 18/100\n",
      "8000/8000 [==============================] - 1s 168us/sample - loss: 0.3440 - accuracy: 0.8572\n",
      "Epoch 19/100\n",
      "8000/8000 [==============================] - 1s 164us/sample - loss: 0.3428 - accuracy: 0.8609\n",
      "Epoch 20/100\n",
      "8000/8000 [==============================] - 1s 171us/sample - loss: 0.3424 - accuracy: 0.8594\n",
      "Epoch 21/100\n",
      "8000/8000 [==============================] - 1s 170us/sample - loss: 0.3416 - accuracy: 0.8604\n",
      "Epoch 22/100\n",
      "8000/8000 [==============================] - 1s 180us/sample - loss: 0.3410 - accuracy: 0.8616\n",
      "Epoch 23/100\n",
      "8000/8000 [==============================] - 1s 162us/sample - loss: 0.3405 - accuracy: 0.8599\n",
      "Epoch 24/100\n",
      "8000/8000 [==============================] - 1s 163us/sample - loss: 0.3401 - accuracy: 0.8606\n",
      "Epoch 25/100\n",
      "8000/8000 [==============================] - 1s 167us/sample - loss: 0.3394 - accuracy: 0.8604\n",
      "Epoch 26/100\n",
      "8000/8000 [==============================] - 1s 169us/sample - loss: 0.3392 - accuracy: 0.8606\n",
      "Epoch 27/100\n",
      "8000/8000 [==============================] - 1s 165us/sample - loss: 0.3390 - accuracy: 0.8620\n",
      "Epoch 28/100\n",
      "8000/8000 [==============================] - 1s 164us/sample - loss: 0.3384 - accuracy: 0.8618\n",
      "Epoch 29/100\n",
      "8000/8000 [==============================] - 1s 164us/sample - loss: 0.3382 - accuracy: 0.8599\n",
      "Epoch 30/100\n",
      "8000/8000 [==============================] - 1s 163us/sample - loss: 0.3381 - accuracy: 0.8606\n",
      "Epoch 31/100\n",
      "8000/8000 [==============================] - 1s 163us/sample - loss: 0.3374 - accuracy: 0.8618\n",
      "Epoch 32/100\n",
      "8000/8000 [==============================] - 1s 161us/sample - loss: 0.3376 - accuracy: 0.8611\n",
      "Epoch 33/100\n",
      "8000/8000 [==============================] - 1s 166us/sample - loss: 0.3369 - accuracy: 0.8616\n",
      "Epoch 34/100\n",
      "8000/8000 [==============================] - 1s 163us/sample - loss: 0.3366 - accuracy: 0.8612\n",
      "Epoch 35/100\n",
      "8000/8000 [==============================] - 1s 165us/sample - loss: 0.3368 - accuracy: 0.8618\n",
      "Epoch 36/100\n",
      "8000/8000 [==============================] - 1s 165us/sample - loss: 0.3368 - accuracy: 0.8621\n",
      "Epoch 37/100\n",
      "8000/8000 [==============================] - 1s 166us/sample - loss: 0.3363 - accuracy: 0.8616\n",
      "Epoch 38/100\n",
      "8000/8000 [==============================] - 1s 167us/sample - loss: 0.3362 - accuracy: 0.8625\n",
      "Epoch 39/100\n",
      "8000/8000 [==============================] - 1s 165us/sample - loss: 0.3355 - accuracy: 0.8624\n",
      "Epoch 40/100\n",
      "8000/8000 [==============================] - 1s 163us/sample - loss: 0.3356 - accuracy: 0.8620\n",
      "Epoch 41/100\n",
      "8000/8000 [==============================] - 1s 165us/sample - loss: 0.3352 - accuracy: 0.8627\n",
      "Epoch 42/100\n",
      "8000/8000 [==============================] - 1s 166us/sample - loss: 0.3347 - accuracy: 0.8616\n",
      "Epoch 43/100\n",
      "8000/8000 [==============================] - 1s 162us/sample - loss: 0.3351 - accuracy: 0.8619\n",
      "Epoch 44/100\n",
      "8000/8000 [==============================] - 1s 163us/sample - loss: 0.3352 - accuracy: 0.8626\n",
      "Epoch 45/100\n",
      "8000/8000 [==============================] - 1s 163us/sample - loss: 0.3345 - accuracy: 0.8626\n",
      "Epoch 46/100\n",
      "8000/8000 [==============================] - 1s 167us/sample - loss: 0.3344 - accuracy: 0.8637\n",
      "Epoch 47/100\n",
      "8000/8000 [==============================] - 1s 182us/sample - loss: 0.3339 - accuracy: 0.8641\n",
      "Epoch 48/100\n",
      "8000/8000 [==============================] - 1s 187us/sample - loss: 0.3342 - accuracy: 0.8631\n",
      "Epoch 49/100\n",
      "8000/8000 [==============================] - 2s 191us/sample - loss: 0.3338 - accuracy: 0.8622\n",
      "Epoch 50/100\n",
      "8000/8000 [==============================] - 1s 166us/sample - loss: 0.3336 - accuracy: 0.8648\n",
      "Epoch 51/100\n",
      "8000/8000 [==============================] - 1s 164us/sample - loss: 0.3337 - accuracy: 0.8643\n",
      "Epoch 52/100\n",
      "8000/8000 [==============================] - 1s 168us/sample - loss: 0.3337 - accuracy: 0.8635\n",
      "Epoch 53/100\n",
      "8000/8000 [==============================] - 1s 162us/sample - loss: 0.3334 - accuracy: 0.8620\n",
      "Epoch 54/100\n",
      "8000/8000 [==============================] - 1s 164us/sample - loss: 0.3326 - accuracy: 0.8644\n",
      "Epoch 55/100\n",
      "8000/8000 [==============================] - 1s 160us/sample - loss: 0.3330 - accuracy: 0.8640\n",
      "Epoch 56/100\n",
      "8000/8000 [==============================] - 1s 164us/sample - loss: 0.3331 - accuracy: 0.8624\n",
      "Epoch 57/100\n",
      "8000/8000 [==============================] - 1s 162us/sample - loss: 0.3331 - accuracy: 0.8643\n",
      "Epoch 58/100\n",
      "8000/8000 [==============================] - 1s 162us/sample - loss: 0.3327 - accuracy: 0.8645\n",
      "Epoch 59/100\n",
      "8000/8000 [==============================] - 1s 161us/sample - loss: 0.3329 - accuracy: 0.8634\n",
      "Epoch 60/100\n",
      "8000/8000 [==============================] - 1s 165us/sample - loss: 0.3326 - accuracy: 0.8656\n",
      "Epoch 61/100\n",
      "8000/8000 [==============================] - 2s 205us/sample - loss: 0.3327 - accuracy: 0.8645\n",
      "Epoch 62/100\n",
      "8000/8000 [==============================] - 2s 194us/sample - loss: 0.3326 - accuracy: 0.8641\n",
      "Epoch 63/100\n",
      "8000/8000 [==============================] - 2s 197us/sample - loss: 0.3321 - accuracy: 0.8643\n",
      "Epoch 64/100\n",
      "8000/8000 [==============================] - 1s 184us/sample - loss: 0.3324 - accuracy: 0.8639\n",
      "Epoch 65/100\n",
      "8000/8000 [==============================] - 1s 170us/sample - loss: 0.3318 - accuracy: 0.8650\n",
      "Epoch 66/100\n",
      "8000/8000 [==============================] - 1s 163us/sample - loss: 0.3321 - accuracy: 0.8635\n",
      "Epoch 67/100\n",
      "8000/8000 [==============================] - 1s 161us/sample - loss: 0.3321 - accuracy: 0.8624\n",
      "Epoch 68/100\n",
      "8000/8000 [==============================] - 1s 164us/sample - loss: 0.3316 - accuracy: 0.8645\n",
      "Epoch 69/100\n",
      "8000/8000 [==============================] - 1s 163us/sample - loss: 0.3320 - accuracy: 0.8631\n",
      "Epoch 70/100\n",
      "8000/8000 [==============================] - 1s 164us/sample - loss: 0.3316 - accuracy: 0.8643\n",
      "Epoch 71/100\n",
      "8000/8000 [==============================] - 1s 163us/sample - loss: 0.3317 - accuracy: 0.8643\n",
      "Epoch 72/100\n",
      "8000/8000 [==============================] - 1s 165us/sample - loss: 0.3320 - accuracy: 0.8641\n",
      "Epoch 73/100\n",
      "8000/8000 [==============================] - 2s 189us/sample - loss: 0.3314 - accuracy: 0.8656\n",
      "Epoch 74/100\n",
      "8000/8000 [==============================] - 2s 207us/sample - loss: 0.3312 - accuracy: 0.8636\n",
      "Epoch 75/100\n",
      "8000/8000 [==============================] - 1s 166us/sample - loss: 0.3314 - accuracy: 0.8656\n",
      "Epoch 76/100\n",
      "8000/8000 [==============================] - 1s 160us/sample - loss: 0.3313 - accuracy: 0.8650\n",
      "Epoch 77/100\n",
      "8000/8000 [==============================] - 1s 159us/sample - loss: 0.3312 - accuracy: 0.8644\n",
      "Epoch 78/100\n",
      "8000/8000 [==============================] - 1s 165us/sample - loss: 0.3312 - accuracy: 0.8639\n",
      "Epoch 79/100\n",
      "8000/8000 [==============================] - 1s 159us/sample - loss: 0.3314 - accuracy: 0.8652\n",
      "Epoch 80/100\n",
      "8000/8000 [==============================] - 1s 165us/sample - loss: 0.3310 - accuracy: 0.8639\n",
      "Epoch 81/100\n",
      "8000/8000 [==============================] - 1s 166us/sample - loss: 0.3312 - accuracy: 0.8640\n",
      "Epoch 82/100\n",
      "8000/8000 [==============================] - 1s 177us/sample - loss: 0.3312 - accuracy: 0.8645\n",
      "Epoch 83/100\n",
      "8000/8000 [==============================] - 2s 205us/sample - loss: 0.3310 - accuracy: 0.8635\n",
      "Epoch 84/100\n",
      "8000/8000 [==============================] - 1s 174us/sample - loss: 0.3313 - accuracy: 0.8636\n",
      "Epoch 85/100\n",
      "8000/8000 [==============================] - 2s 191us/sample - loss: 0.3308 - accuracy: 0.8645\n",
      "Epoch 86/100\n",
      "8000/8000 [==============================] - 1s 169us/sample - loss: 0.3309 - accuracy: 0.8644\n",
      "Epoch 87/100\n",
      "8000/8000 [==============================] - 2s 190us/sample - loss: 0.3308 - accuracy: 0.8646\n",
      "Epoch 88/100\n",
      "8000/8000 [==============================] - 2s 201us/sample - loss: 0.3305 - accuracy: 0.8654\n",
      "Epoch 89/100\n",
      "8000/8000 [==============================] - 2s 191us/sample - loss: 0.3307 - accuracy: 0.8651\n",
      "Epoch 90/100\n",
      "8000/8000 [==============================] - 1s 183us/sample - loss: 0.3309 - accuracy: 0.8636\n",
      "Epoch 91/100\n",
      "8000/8000 [==============================] - 2s 189us/sample - loss: 0.3307 - accuracy: 0.8644\n",
      "Epoch 92/100\n",
      "8000/8000 [==============================] - 1s 179us/sample - loss: 0.3307 - accuracy: 0.8646\n",
      "Epoch 93/100\n",
      "8000/8000 [==============================] - 2s 189us/sample - loss: 0.3310 - accuracy: 0.8641\n",
      "Epoch 94/100\n",
      "8000/8000 [==============================] - 1s 163us/sample - loss: 0.3305 - accuracy: 0.8645\n",
      "Epoch 95/100\n",
      "8000/8000 [==============================] - 1s 163us/sample - loss: 0.3306 - accuracy: 0.8640\n",
      "Epoch 96/100\n",
      "8000/8000 [==============================] - 1s 186us/sample - loss: 0.3306 - accuracy: 0.8654\n",
      "Epoch 97/100\n",
      "8000/8000 [==============================] - 1s 179us/sample - loss: 0.3308 - accuracy: 0.8648\n",
      "Epoch 98/100\n",
      "8000/8000 [==============================] - 1s 173us/sample - loss: 0.3305 - accuracy: 0.8650\n",
      "Epoch 99/100\n",
      "8000/8000 [==============================] - 1s 161us/sample - loss: 0.3297 - accuracy: 0.8644\n",
      "Epoch 100/100\n",
      "8000/8000 [==============================] - 1s 161us/sample - loss: 0.3307 - accuracy: 0.8643\n"
     ]
    },
    {
     "data": {
      "text/plain": [
       "<tensorflow.python.keras.callbacks.History at 0x27bd250f488>"
      ]
     },
     "execution_count": 18,
     "metadata": {},
     "output_type": "execute_result"
    }
   ],
   "source": [
    "Our_Classifier.fit(X_train, Y_train, batch_size = 10, epochs = 100)"
   ]
  },
  {
   "cell_type": "code",
   "execution_count": 19,
   "metadata": {},
   "outputs": [],
   "source": [
    "Y_predicted = Our_Classifier.predict(X_test)"
   ]
  },
  {
   "cell_type": "code",
   "execution_count": 20,
   "metadata": {},
   "outputs": [
    {
     "data": {
      "text/plain": [
       "array([[0.21761554],\n",
       "       [0.31562477],\n",
       "       [0.10934442],\n",
       "       ...,\n",
       "       [0.24864194],\n",
       "       [0.18626273],\n",
       "       [0.24236387]], dtype=float32)"
      ]
     },
     "execution_count": 20,
     "metadata": {},
     "output_type": "execute_result"
    }
   ],
   "source": [
    "Y_predicted"
   ]
  },
  {
   "cell_type": "code",
   "execution_count": 21,
   "metadata": {},
   "outputs": [],
   "source": [
    "Y_predicted = (Y_predicted>0.5)"
   ]
  },
  {
   "cell_type": "code",
   "execution_count": 22,
   "metadata": {},
   "outputs": [
    {
     "data": {
      "text/plain": [
       "array([[False],\n",
       "       [False],\n",
       "       [False],\n",
       "       ...,\n",
       "       [False],\n",
       "       [False],\n",
       "       [False]])"
      ]
     },
     "execution_count": 22,
     "metadata": {},
     "output_type": "execute_result"
    }
   ],
   "source": [
    "Y_predicted"
   ]
  },
  {
   "cell_type": "code",
   "execution_count": 23,
   "metadata": {},
   "outputs": [
    {
     "data": {
      "text/plain": [
       "array([False])"
      ]
     },
     "execution_count": 23,
     "metadata": {},
     "output_type": "execute_result"
    }
   ],
   "source": [
    "Y_predicted[345]"
   ]
  },
  {
   "cell_type": "code",
   "execution_count": 24,
   "metadata": {},
   "outputs": [],
   "source": [
    "from sklearn.metrics import confusion_matrix\n",
    "ConfusionMatrix = confusion_matrix(Y_test, Y_predicted)"
   ]
  },
  {
   "cell_type": "code",
   "execution_count": 25,
   "metadata": {},
   "outputs": [
    {
     "data": {
      "text/plain": [
       "array([[1515,   80],\n",
       "       [ 197,  208]], dtype=int64)"
      ]
     },
     "execution_count": 25,
     "metadata": {},
     "output_type": "execute_result"
    }
   ],
   "source": [
    "ConfusionMatrix"
   ]
  },
  {
   "cell_type": "code",
   "execution_count": 26,
   "metadata": {},
   "outputs": [
    {
     "data": {
      "text/plain": [
       "array([ True])"
      ]
     },
     "execution_count": 26,
     "metadata": {},
     "output_type": "execute_result"
    }
   ],
   "source": [
    "Y_predicted[128]"
   ]
  }
 ],
 "metadata": {
  "kernelspec": {
   "display_name": "Python 3",
   "language": "python",
   "name": "python3"
  },
  "language_info": {
   "codemirror_mode": {
    "name": "ipython",
    "version": 3
   },
   "file_extension": ".py",
   "mimetype": "text/x-python",
   "name": "python",
   "nbconvert_exporter": "python",
   "pygments_lexer": "ipython3",
   "version": "3.7.4"
  }
 },
 "nbformat": 4,
 "nbformat_minor": 4
}
